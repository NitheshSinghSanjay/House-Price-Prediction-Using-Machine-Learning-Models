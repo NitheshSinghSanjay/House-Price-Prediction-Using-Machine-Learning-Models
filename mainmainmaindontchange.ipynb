{
 "cells": [
  {
   "cell_type": "code",
   "execution_count": 1,
   "metadata": {
    "scrolled": false
   },
   "outputs": [
    {
     "ename": "ImportError",
     "evalue": "C extension: DLL load failed: %1 is not a valid Win32 application. not built. If you want to import pandas from the source directory, you may need to run 'python setup.py build_ext --inplace --force' to build the C extensions first.",
     "output_type": "error",
     "traceback": [
      "\u001b[1;31m\u001b[0m",
      "\u001b[1;31mImportError\u001b[0mTraceback (most recent call last)",
      "\u001b[1;32m<ipython-input-1-feaa183b9d64>\u001b[0m in \u001b[0;36m<module>\u001b[1;34m()\u001b[0m\n\u001b[0;32m      1\u001b[0m \u001b[1;32mimport\u001b[0m \u001b[0mnumpy\u001b[0m \u001b[1;32mas\u001b[0m \u001b[0mnp\u001b[0m\u001b[1;33m\u001b[0m\u001b[0m\n\u001b[1;32m----> 2\u001b[1;33m \u001b[1;32mimport\u001b[0m \u001b[0mpandas\u001b[0m \u001b[1;32mas\u001b[0m \u001b[0mpd\u001b[0m\u001b[1;33m\u001b[0m\u001b[0m\n\u001b[0m\u001b[0;32m      3\u001b[0m \u001b[1;32mimport\u001b[0m \u001b[0mscipy\u001b[0m \u001b[1;32mas\u001b[0m \u001b[0msc\u001b[0m\u001b[1;33m\u001b[0m\u001b[0m\n\u001b[0;32m      4\u001b[0m \u001b[1;32mimport\u001b[0m \u001b[0mmatplotlib\u001b[0m\u001b[1;33m.\u001b[0m\u001b[0mpyplot\u001b[0m \u001b[1;32mas\u001b[0m \u001b[0mplt\u001b[0m\u001b[1;33m\u001b[0m\u001b[0m\n\u001b[0;32m      5\u001b[0m \u001b[1;32mfrom\u001b[0m \u001b[0msklearn\u001b[0m \u001b[1;32mimport\u001b[0m \u001b[0mlinear_model\u001b[0m\u001b[1;33m\u001b[0m\u001b[0m\n",
      "\u001b[1;32mC:\\Users\\venka\\AppData\\Roaming\\Python\\Python27\\site-packages\\pandas\\__init__.py\u001b[0m in \u001b[0;36m<module>\u001b[1;34m()\u001b[0m\n\u001b[0;32m     29\u001b[0m                       \u001b[1;34m\"pandas from the source directory, you may need to run \"\u001b[0m\u001b[1;33m\u001b[0m\u001b[0m\n\u001b[0;32m     30\u001b[0m                       \u001b[1;34m\"'python setup.py build_ext --inplace --force' to build \"\u001b[0m\u001b[1;33m\u001b[0m\u001b[0m\n\u001b[1;32m---> 31\u001b[1;33m                       \"the C extensions first.\".format(module))\n\u001b[0m\u001b[0;32m     32\u001b[0m \u001b[1;33m\u001b[0m\u001b[0m\n\u001b[0;32m     33\u001b[0m \u001b[1;32mfrom\u001b[0m \u001b[0mdatetime\u001b[0m \u001b[1;32mimport\u001b[0m \u001b[0mdatetime\u001b[0m\u001b[1;33m\u001b[0m\u001b[0m\n",
      "\u001b[1;31mImportError\u001b[0m: C extension: DLL load failed: %1 is not a valid Win32 application. not built. If you want to import pandas from the source directory, you may need to run 'python setup.py build_ext --inplace --force' to build the C extensions first."
     ]
    }
   ],
   "source": [
    "import numpy as np\n",
    "import pandas as pd\n",
    "import scipy as sc\n",
    "import matplotlib.pyplot as plt\n",
    "from sklearn import linear_model\n",
    "import seaborn as sns\n",
    "train = pd.read_csv(\"train.csv\")\n",
    "test = pd.read_csv(\"test.csv\")\n",
    "graphcomparision=pd.read_csv(\"graphcomparision.csv\")\n",
    "Rsquarescomparision=pd.read_csv(\"Rsquarescomparision.csv\")\n",
    "train.keys()"
   ]
  },
  {
   "cell_type": "markdown",
   "metadata": {},
   "source": [
    "\n",
    "'Street_Pave',\n",
    "'GarageType_Attchd',\n",
    "'GarageType_Basment',\n",
    "'GarageType_BuiltIn',\n",
    "'GarageType_CarPort',\n",
    "'GarageType_Detchd',\n",
    "'GarageType_VARIOUS',\n",
    "'GarageFinish_RFn',\n",
    "'GarageFinish_Unf',\n",
    "'GarageFinish_VARIOUS',\n",
    "'GarageCond_Fa',\n",
    "'GarageCond_Gd',\n",
    "'GarageCond_Po',\n",
    "'GarageCond_TA',\n",
    "'GarageCond_VARIOUS',\n",
    "'BsmtQual_VARIOUS',\n",
    "'BsmtCond_Gd',\n",
    "'BsmtCond_Po',\n",
    "'BsmtCond_TA',\n",
    "'BsmtCond_VARIOUS',\n",
    "'LotShape_Reg',\n",
    "'LotConfig_FR2',\n",
    "'LotConfig_FR3',\n",
    "'LotConfig_Inside',\n",
    "'LandSlope_Mod',\n",
    "'LandSlope_Sev',\n",
    "'Condition1_Feedr',\n",
    "'Condition1_PosA',\n",
    "'Condition1_PosN',\n",
    "'Condition1_RRAe',\n",
    "'Condition1_RRAn',\n",
    "'Condition1_RRNe',\n",
    "'Condition1_RRNn',\n",
    "'RoofStyle_Gable',\n",
    "'RoofStyle_Gambrel',\n",
    "'RoofStyle_Mansard',\n",
    "'RoofStyle_Shed',\n",
    "'MasVnrType_BrkFace',\n",
    "'MasVnrType_None',\n",
    "'MasVnrType_Stone',\n",
    "'MasVnrType_VARIOUS',\n",
    "'ExterCond_Fa',\n",
    "'ExterCond_Gd',\n",
    "'ExterCond_Po',\n",
    "'ExterCond_TA',\n",
    "'Foundation_CBlock',\n",
    "'Foundation_PConc',\n",
    "'Foundation_Slab',\n",
    "'Foundation_Stone',\n",
    "'Foundation_Wood',\n",
    "'BsmtExposure_Mn',\n",
    "'BsmtExposure_VARIOUS',\n",
    "'BsmtFinType1_BLQ',\n",
    "'BsmtFinType1_GLQ',\n",
    "'BsmtFinType1_Rec',\n",
    "'BsmtFinType1_VARIOUS',\n",
    "'BsmtFinType2_BLQ',\n",
    "'BsmtFinType2_GLQ',\n",
    "'BsmtFinType2_LwQ',\n",
    "'BsmtFinType2_Rec',\n",
    "'BsmtFinType2_Unf',\n",
    "'BsmtFinType2_VARIOUS',\n",
    "'HeatingQC_Fa',\n",
    "'HeatingQC_Gd',\n",
    "'HeatingQC_Po',\n",
    "'HeatingQC_TA',\n",
    "'PavedDrive_P',\n",
    "'PavedDrive_Y',\n",
    "'SaleCondition_AdjLand',\n",
    "'SaleCondition_Family',\n",
    "\n",
    "\n"
   ]
  },
  {
   "cell_type": "markdown",
   "metadata": {},
   "source": [
    "Alley, Fence, FireplaceQu, LotFrontage, PoolQC, MiscFeature, GarageYrBlt, GarageFinish, GarageQual, BsmtExposure, BsmtFinType2, BsmtFinType1, BsmtCond, BsmtQual, MasVnrArea, MasVnrType, Electrical, Utilities\n",
    "are the variables with missing variables\n",
    "\n",
    " PoolQC, MiscFeature, Alley, Fence, FireplaceQu, LotFrontage are variables having more missing data. These variables are not useful for the analysis"
   ]
  },
  {
   "cell_type": "code",
   "execution_count": null,
   "metadata": {
    "collapsed": true
   },
   "outputs": [],
   "source": [
    "#train=train.drop(['PoolQC','GarageQual', 'MiscFeature', 'Alley', 'Fence', 'FireplaceQu', 'LotFrontage'],axis=1)\n",
    "#test=test.drop(['PoolQC','GarageQual', 'MiscFeature', 'Alley', 'Fence', 'FireplaceQu', 'LotFrontage'],axis=1)\n"
   ]
  },
  {
   "cell_type": "markdown",
   "metadata": {},
   "source": [
    "Check the pearson correlation between sale price and other numerical independent variables"
   ]
  },
  {
   "cell_type": "code",
   "execution_count": null,
   "metadata": {},
   "outputs": [],
   "source": [
    "train.corr(method = 'pearson')"
   ]
  },
  {
   "cell_type": "code",
   "execution_count": null,
   "metadata": {
    "collapsed": true
   },
   "outputs": [],
   "source": []
  },
  {
   "cell_type": "markdown",
   "metadata": {},
   "source": [
    "MSSubClass\t\t   -0.084284\n",
    "LotFrontage\t\t\t0.334901\n",
    "LotArea\t\t\t    0.263843\n",
    "OverallQual\t\t\t0.790982 highly corerelated\n",
    "OverallCond\t\t   -0.077856\n",
    "YearBuilt\t\t\t0.522897 highly corerelated\n",
    "YearRemodAdd\t\t0.507101 highly corerelated\n",
    "MasVnrArea\t\t\t0.475241 highly corerelated\n",
    "BsmtFinSF1\t\t\t0.386420\t\t\t\n",
    "BsmtFinSF2\t\t   -0.011378\n",
    "BsmtUnfSF\t\t\t0.214479\n",
    "TotalBsmtSF\t\t\t0.613581 highly corerelated\n",
    "1stFlrSF\t\t\t0.605852 highly corerelated\n",
    "2ndFlrSF\t\t\t0.319334\n",
    "LowQualFinSF\t   -0.025606\n",
    "GrLivArea\t\t\t0.708624 highly corerelated\n",
    "BsmtFullBath\t\t0.227122\n",
    "BsmtHalfBath\t   -0.016844\n",
    "FullBath\t\t\t0.560664 highly corerelated\n",
    "HalfBath\t\t\t0.284108\n",
    "BedroomAbvGr\t\t0.168213\n",
    "KitchenAbvGr\t   -0.135907\n",
    "TotRmsAbvGrd\t\t0.533723 highly corerelated\n",
    "Fireplaces\t\t\t0.466929 highly corerelated\n",
    "GarageYrBlt\t\t\t0.470177 highly corerelated\n",
    "GarageCars\t\t\t0.640409 highly corerelated\n",
    "GarageArea\t\t\t0.623431 highly corerelated\n",
    "WoodDeckSF\t\t\t0.324413 \n",
    "OpenPorchSF\t\t\t0.315856 \n",
    "EnclosedPorch\t   -0.128578\n",
    "3SsnPorch\t\t\t0.044584\n",
    "ScreenPorch\t\t\t0.111447\n",
    "PoolArea\t\t\t0.092404\n",
    "MiscVal\t\t\t   -0.021190\n",
    "MoSold\t\t\t    0.046432\n",
    "YrSold\t\t\t   -0.028923\n"
   ]
  },
  {
   "cell_type": "code",
   "execution_count": null,
   "metadata": {},
   "outputs": [],
   "source": [
    "import seaborn as sns\n",
    "sns.pairplot(train,x_vars=['OverallQual','YearBuilt','YearRemodAdd'],y_vars='SalePrice',size =7 ,aspect =0.7)\n",
    "plt.show()"
   ]
  },
  {
   "cell_type": "code",
   "execution_count": null,
   "metadata": {
    "collapsed": true
   },
   "outputs": [],
   "source": []
  },
  {
   "cell_type": "code",
   "execution_count": null,
   "metadata": {},
   "outputs": [],
   "source": [
    "import seaborn as sns\n",
    "sns.pairplot(train,x_vars=['MasVnrArea','TotalBsmtSF','1stFlrSF'],y_vars='SalePrice',size =7 ,aspect =0.7)\n",
    "sns.pairplot(train,x_vars=['GrLivArea','TotRmsAbvGrd','Fireplaces'],y_vars='SalePrice',size =7 ,aspect =0.7)\n",
    "sns.pairplot(train,x_vars=['GarageYrBlt','GarageCars','GarageArea'],y_vars='SalePrice',size =7 ,aspect =0.7)\n",
    "\n",
    "\n",
    "plt.show()"
   ]
  },
  {
   "cell_type": "code",
   "execution_count": null,
   "metadata": {},
   "outputs": [],
   "source": [
    "#removing outliers\n",
    "print(train.sort_values(by = 'GrLivArea', ascending = False)[:2])\n",
    "print(train.sort_values(by = 'GarageArea', ascending = False)[:2])\n",
    "print(train.sort_values(by = 'TotalBsmtSF', ascending = False)[:3])\n",
    "train = train.drop(train[train['Id'] == 1299].index)\n",
    "train = train.drop(train[train['Id'] == 524].index)\n",
    "train = train.drop(train[train['Id'] == 582].index)\n",
    "train = train.drop(train[train['Id'] == 333].index)\n",
    "train = train.drop(train[train['Id'] == 497].index)\n",
    "\n"
   ]
  },
  {
   "cell_type": "code",
   "execution_count": null,
   "metadata": {},
   "outputs": [],
   "source": [
    "import seaborn as sns\n",
    "sns.pairplot(train,x_vars=['GrLivArea','GarageArea','TotalBsmtSF'],y_vars='SalePrice',size =7 ,aspect =0.7)\n",
    "plt.show()"
   ]
  },
  {
   "cell_type": "code",
   "execution_count": null,
   "metadata": {},
   "outputs": [],
   "source": [
    "corr = train.corr()\n",
    "# Generate a mask for the upper triangle\n",
    "mask = np.zeros_like(corr, dtype=np.bool)\n",
    "mask[np.triu_indices_from(mask)] = True\n",
    "\n",
    "# Set up the matplotlib figure\n",
    "f, ax = plt.subplots(figsize=(20, 20))\n",
    "\n",
    "# Generate a custom diverging colormap\n",
    "cmap = sns.diverging_palette(220, 10, as_cmap=True)\n",
    "\n",
    "# Draw the heatmap with the mask and correct aspect ratio\n",
    "sns.heatmap(corr, mask=mask, cmap=cmap, vmax=.3,\n",
    "            square=True, xticklabels=5, yticklabels=5,\n",
    "            linewidths=.5, cbar_kws={\"shrink\": .5}, ax=ax)\n",
    "plt.show()\n"
   ]
  },
  {
   "cell_type": "code",
   "execution_count": null,
   "metadata": {
    "collapsed": true
   },
   "outputs": [],
   "source": []
  },
  {
   "cell_type": "code",
   "execution_count": null,
   "metadata": {},
   "outputs": [],
   "source": [
    "corrMatrix=train[[\"SalePrice\",\"OverallQual\",\"GrLivArea\",\"GarageCars\",\n",
    "                  \"GarageArea\",\"GarageYrBlt\",\"TotalBsmtSF\",\"1stFlrSF\",\"FullBath\",\n",
    "                  \"TotRmsAbvGrd\",\"YearBuilt\",\"YearRemodAdd\"]].corr()\n",
    "\n",
    "f, ax = plt.subplots(figsize=(10, 10))\n",
    "\n",
    "sns.heatmap(corrMatrix, vmax=.8, linewidths=0.01,\n",
    "            square=True, annot=True)\n",
    "plt.show()"
   ]
  },
  {
   "cell_type": "code",
   "execution_count": null,
   "metadata": {
    "collapsed": true
   },
   "outputs": [],
   "source": []
  },
  {
   "cell_type": "code",
   "execution_count": null,
   "metadata": {
    "collapsed": true
   },
   "outputs": [],
   "source": [
    "#train.isnull().sum() #checking the dataset"
   ]
  },
  {
   "cell_type": "raw",
   "metadata": {},
   "source": [
    "replace the missing variables with mean of the respective columns"
   ]
  },
  {
   "cell_type": "code",
   "execution_count": null,
   "metadata": {
    "collapsed": true
   },
   "outputs": [],
   "source": [
    "train = train.fillna(value=train.mean())\n",
    "test = test.fillna(value=test.mean())\n",
    "#train.isnull().sum()\n"
   ]
  },
  {
   "cell_type": "markdown",
   "metadata": {},
   "source": [
    "now dealing with the missing categorical variables."
   ]
  },
  {
   "cell_type": "code",
   "execution_count": null,
   "metadata": {
    "collapsed": true
   },
   "outputs": [],
   "source": [
    "\n",
    "(train['BsmtFinType2'].fillna(value='VARIOUS',inplace=True))\n",
    "(train['BsmtFinType1'].fillna(value='VARIOUS',inplace=True))\n",
    "(train['BsmtExposure'].fillna(value='VARIOUS',inplace=True))\n",
    "(train['MasVnrType'].fillna(value='VARIOUS',inplace=True))\n",
    "#print(train['Alley'].fillna(value='VARIOUS',inplace=True))\n",
    "#print(train['FireplaceQu'].fillna(value='VARIOUS',inplace=True))\n",
    "(train['GarageType'].fillna(value='VARIOUS',inplace=True))\n",
    "(train['GarageFinish'].fillna(value='VARIOUS',inplace=True))\n",
    "(train['GarageCond'].fillna(value='VARIOUS',inplace=True))\n",
    "#print(train['Fence'].fillna(value='VARIOUS',inplace=True))\n",
    "\n",
    "\"\"\"\n",
    "print(train['Functional'].fillna(value='Maj2',inplace=True))\n",
    "print(train['SaleType'].fillna(value='New',inplace=True))\n",
    "print(train['MSZoning'].fillna(value='RH',inplace=True))\n",
    "print(train['Utilities'].fillna(value='NoSeWa',inplace=True))\n",
    "\"\"\"\n",
    "\n",
    "(train['BsmtQual'].fillna(value='VARIOUS',inplace=True))\n",
    "(train['BsmtCond'].fillna(value='VARIOUS',inplace=True))\n",
    "\n",
    "(test['BsmtFinType2'].fillna(value='VARIOUS',inplace=True))\n",
    "(test['BsmtFinType1'].fillna(value='VARIOUS',inplace=True))\n",
    "(test['BsmtExposure'].fillna(value='VARIOUS',inplace=True))\n",
    "(test['MasVnrType'].fillna(value='VARIOUS',inplace=True))\n",
    "#print(test['Alley'].fillna(value='VARIOUS',inplace=True))\n",
    "#print(test['FireplaceQu'].fillna(value='VARIOUS',inplace=True))\n",
    "(test['GarageType'].fillna(value='VARIOUS',inplace=True))\n",
    "(test['GarageFinish'].fillna(value='VARIOUS',inplace=True))\n",
    "(test['GarageCond'].fillna(value='VARIOUS',inplace=True))\n",
    "#print(test['Fence'].fillna(value='VARIOUS',inplace=True))\n",
    "\"\"\"\n",
    "print(test['Functional'].fillna(value='Maj2',inplace=True))\n",
    "print(test['MSZoning'].fillna(value='RH',inplace=True))\n",
    "print(test['Utilities'].fillna(value='NoSeWa',inplace=True))\n",
    "print(test['SaleType'].fillna(value='New',inplace=True))\n",
    "\"\"\"\n",
    "(test['BsmtQual'].fillna(value='VARIOUS',inplace=True))\n",
    "(test['BsmtCond'].fillna(value='VARIOUS',inplace=True))\n",
    "\n",
    "(train['Electrical'].fillna(value='VARIOUS',inplace=True))\n",
    "(test['KitchenQual'].fillna(value='VARIOUS',inplace=True))\n",
    "(test['SaleType'].fillna(value='VARIOUS',inplace=True))\n",
    "(test['MSZoning'].fillna(value='VARIOUS',inplace=True))\n",
    "(test['Functional'].fillna(value='VARIOUS',inplace=True))\n",
    "#print(train['FireplaceQu'].fillna(value='VARIOUS',inplace=True))\n",
    "(test['Utilities'].fillna(value='VARIOUS',inplace=True))\n",
    "(train['GarageQual'].fillna(value='VARIOUS',inplace=True))\n",
    "(train['PoolQC'].fillna(value='VARIOUS',inplace=True))\n",
    "(train['MiscFeature'].fillna(value='VARIOUS',inplace=True))\n",
    "\n",
    "\n"
   ]
  },
  {
   "cell_type": "markdown",
   "metadata": {},
   "source": [
    "All the missing the values are gone."
   ]
  },
  {
   "cell_type": "code",
   "execution_count": null,
   "metadata": {
    "collapsed": true
   },
   "outputs": [],
   "source": [
    "#train=train.drop(['Id','GarageArea','GarageYrBlt','TotRmsAbvGrd','FullBath','YearRemodAdd','1stFlrSF','MSSubClass','MasVnrType', 'MSZoning', 'LotArea', 'Street','LotShape', 'LandContour', 'Utilities', 'LotConfig','LandSlope', 'Neighborhood', 'Condition1', 'Condition2', 'BldgType','HouseStyle', 'OverallCond','RoofStyle', 'RoofMatl', 'Exterior1st', 'Exterior2nd', 'MasVnrType','MasVnrArea', 'ExterQual', 'ExterCond', 'Foundation', 'BsmtQual','BsmtCond', 'BsmtExposure', 'BsmtFinType1', 'BsmtFinSF1','BsmtFinType2', 'BsmtFinSF2', 'BsmtUnfSF', 'Heating','HeatingQC', 'CentralAir', 'Electrical', '2ndFlrSF','LowQualFinSF', 'BsmtFullBath', 'BsmtHalfBath','HalfBath', 'BedroomAbvGr', 'KitchenAbvGr', 'KitchenQual', 'Functional', 'Fireplaces', 'GarageType', 'GarageFinish', 'GarageCars','GarageCond', 'PavedDrive', 'WoodDeckSF', 'OpenPorchSF','EnclosedPorch', '3SsnPorch', 'ScreenPorch', 'PoolArea', 'MiscVal', 'MoSold', 'YrSold', 'SaleType','SaleCondition'],axis=1)\n",
    "#train=train.drop(['Id','MSSubClass','LotFrontage’,’LotArea’,’OverallCond’,’YearRemodAdd’,’MasVnrArea’,’BsmtFinSF1’,’BsmtFinSF2’,’BsmtUnfSF’,’1stFlrSF’,’2ndFlrSF’,’LowQualFinSF’,’BsmtFullBath’,’BsmtHalfBath,’FullBath’,’HalfBath,’BedroomAbvGr’,KitchenAbvGr’,’TotRmsAbvGrd’,’Fireplaces’,’GarageYrBlt’,’GarageCars’,’GarageArea’,’WoodDeckSF’,’OpenPorchSF’,’EnclosedPorch’,’3SsnPorch’,‘PoolArea’,’MiscVal’,’MoSold’,’YrSold’,’SalePrice’],axis=1)\n",
    "#print(train.isnull().sum())"
   ]
  },
  {
   "cell_type": "code",
   "execution_count": null,
   "metadata": {
    "collapsed": true
   },
   "outputs": [],
   "source": []
  },
  {
   "cell_type": "code",
   "execution_count": null,
   "metadata": {
    "collapsed": true
   },
   "outputs": [],
   "source": [
    "\n",
    "train=train.drop(['Id','YearRemodAdd','BsmtFinSF1','BsmtFinSF2','BsmtUnfSF','LowQualFinSF','HalfBath','GarageYrBlt','GarageArea','OpenPorchSF','EnclosedPorch','3SsnPorch','PoolArea','MiscVal','MoSold'],axis=1)                  \n",
    "\n",
    "test=test.drop(['Id','YearRemodAdd','BsmtFinSF1','BsmtFinSF2','BsmtUnfSF','LowQualFinSF','HalfBath','GarageYrBlt','GarageArea','OpenPorchSF','EnclosedPorch','3SsnPorch','PoolArea','MiscVal','MoSold'],axis=1)                  \n",
    "    \n",
    "train.drop([\n",
    "\n",
    "'Exterior1st',\n",
    "'Exterior2nd'],axis=1,inplace=True)\n",
    "\n",
    "test.drop([\n",
    "\n",
    "'Exterior1st',\n",
    "'Exterior2nd'\n",
    "],axis=1,inplace=True)\n",
    "\n",
    "train=train.drop([ 'Alley', 'Fence', 'FireplaceQu'],axis=1)\n",
    "test=test.drop([ 'Alley', 'Fence', 'FireplaceQu'],axis=1)"
   ]
  },
  {
   "cell_type": "code",
   "execution_count": null,
   "metadata": {
    "collapsed": true
   },
   "outputs": [],
   "source": [
    "train = pd.get_dummies(train,columns=['Street','GarageQual','GarageType',\n",
    "'GarageFinish','GarageCond','BsmtQual','BsmtCond',\n",
    "'LotShape','LandContour','LotConfig','LandSlope',\n",
    "'Condition1','BldgType','RoofStyle',\n",
    "'MasVnrType','ExterQual',\n",
    "'ExterCond','Foundation','BsmtExposure',\n",
    "'BsmtFinType1','BsmtFinType2','HeatingQC','CentralAir',\n",
    "'PavedDrive','SaleCondition',\n",
    "'PoolQC','MiscFeature','Condition2','HouseStyle','RoofMatl',\n",
    "'Heating','Electrical','Neighborhood',\n",
    "'KitchenQual',\n",
    "'Functional','SaleType','MSZoning','Utilities'])\n",
    "\n",
    "\n",
    "\n",
    "#,'Functional','SaleType','MSZoning','Utilities'\n",
    "\n",
    "test = pd.get_dummies(test,columns=['Street','GarageQual','GarageType',\n",
    "'GarageFinish','GarageCond','BsmtQual','BsmtCond',\n",
    "'LotShape','LandContour','LotConfig','LandSlope',\n",
    "'Condition1','BldgType','RoofStyle',\n",
    "'MasVnrType','ExterQual',\n",
    "'ExterCond','Foundation','BsmtExposure',\n",
    "'BsmtFinType1','BsmtFinType2','HeatingQC','CentralAir',\n",
    "'PavedDrive','SaleCondition',\n",
    "'PoolQC','MiscFeature','Condition2','HouseStyle','RoofMatl',\n",
    "'Heating','Electrical','Neighborhood',\n",
    "'KitchenQual',\n",
    "'Functional','SaleType','MSZoning','Utilities'])\n"
   ]
  },
  {
   "cell_type": "code",
   "execution_count": null,
   "metadata": {},
   "outputs": [],
   "source": [
    "#test=test.drop(['Id','GarageArea','GarageYrBlt','TotRmsAbvGrd','FullBath','YearRemodAdd','MSSubClass','MasVnrType', 'MSZoning', 'LotArea', 'Street','LotShape', 'LandContour', 'Utilities', 'LotConfig','LandSlope', 'Neighborhood', 'Condition1', 'Condition2', 'BldgType','HouseStyle', 'OverallCond','RoofStyle', 'RoofMatl', 'Exterior1st', 'Exterior2nd','MasVnrArea', 'ExterQual', 'ExterCond', 'Foundation', 'BsmtQual','BsmtCond', 'BsmtExposure', 'BsmtFinType1', 'BsmtFinSF1','BsmtFinType2', 'BsmtFinSF2', 'BsmtUnfSF', 'Heating','HeatingQC', 'CentralAir', 'Electrical', '1stFlrSF', '2ndFlrSF','LowQualFinSF', 'BsmtFullBath', 'BsmtHalfBath','HalfBath', 'BedroomAbvGr', 'KitchenAbvGr', 'KitchenQual', 'Functional', 'Fireplaces', 'GarageType', 'GarageFinish', 'GarageCars','GarageCond', 'PavedDrive', 'WoodDeckSF', 'OpenPorchSF','EnclosedPorch', '3SsnPorch', 'ScreenPorch', 'PoolArea', 'MiscVal', 'MoSold', 'YrSold', 'SaleType','SaleCondition'],axis=1)\n",
    "\n",
    "print(test.isnull().sum())\n",
    "test = test.fillna(value=test.mean())"
   ]
  },
  {
   "cell_type": "code",
   "execution_count": null,
   "metadata": {
    "collapsed": true
   },
   "outputs": [],
   "source": []
  },
  {
   "cell_type": "code",
   "execution_count": null,
   "metadata": {},
   "outputs": [],
   "source": [
    "print(train.columns.get_loc(\"SalePrice\"))\n",
    "print(train.isnull().sum())"
   ]
  },
  {
   "cell_type": "code",
   "execution_count": null,
   "metadata": {
    "collapsed": true
   },
   "outputs": [],
   "source": [
    "train.drop(['GarageQual_Ex','GarageQual_VARIOUS','PoolQC_Fa','PoolQC_VARIOUS','MiscFeature_TenC','MiscFeature_VARIOUS','Condition2_RRNn',\n",
    "            'Condition2_RRAn','Condition2_RRAe','HouseStyle_2.5Fin','RoofMatl_Metal',\n",
    "            'RoofMatl_Membran','RoofMatl_Roll','Heating_OthW',\n",
    "            'Heating_Floor','Electrical_Mix','Electrical_VARIOUS','Utilities_NoSeWa'],axis=1,inplace=True)\n",
    "\n",
    "\n",
    "test.drop(['KitchenQual_VARIOUS','Functional_VARIOUS','SaleType_VARIOUS','MSZoning_VARIOUS','Utilities_VARIOUS'],axis=1,inplace=True)\n"
   ]
  },
  {
   "cell_type": "code",
   "execution_count": null,
   "metadata": {},
   "outputs": [],
   "source": [
    "train.keys()"
   ]
  },
  {
   "cell_type": "code",
   "execution_count": null,
   "metadata": {
    "collapsed": true
   },
   "outputs": [],
   "source": [
    "y = train.iloc[:,22].values          \n",
    "X = train.drop(['SalePrice'],axis=1,inplace=True)"
   ]
  },
  {
   "cell_type": "code",
   "execution_count": null,
   "metadata": {
    "collapsed": true
   },
   "outputs": [],
   "source": []
  },
  {
   "cell_type": "code",
   "execution_count": null,
   "metadata": {
    "collapsed": true
   },
   "outputs": [],
   "source": [
    "from sklearn.ensemble import RandomForestRegressor\n",
    "regressor= RandomForestRegressor(n_estimators = 100,random_state = 0)\n",
    "regressor.fit(train,y)\n",
    "y_randomforestPredictions = regressor.predict(test)"
   ]
  },
  {
   "cell_type": "code",
   "execution_count": null,
   "metadata": {
    "collapsed": true
   },
   "outputs": [],
   "source": []
  },
  {
   "cell_type": "code",
   "execution_count": null,
   "metadata": {
    "collapsed": true
   },
   "outputs": [],
   "source": [
    "\n",
    "#y_pred.to_csv('finalpredections.csv')\n",
    "import numpy as np\n",
    "#np.savetxt(\"final12.csv\", y_pred, delimiter=\",\")\n",
    "#np.savetxt(\"rf1test2.csv\", y_randomforestPredictions, delimiter=\",\")\n",
    "#np.savetxt(\"polynomial.csv\", y_predPoly, delimiter=\",\")\n"
   ]
  },
  {
   "cell_type": "code",
   "execution_count": null,
   "metadata": {},
   "outputs": [],
   "source": [
    "from sklearn.model_selection import cross_val_score\n",
    "rsquare1 = cross_val_score(estimator = regressor,\n",
    "                       X = train,\n",
    "                       y = y,\n",
    "                       scoring = 'r2',\n",
    "                       cv = 10)\n",
    "mse = cross_val_score(estimator = regressor,\n",
    "                       X = train,\n",
    "                       y = y,\n",
    "                       scoring = 'neg_mean_squared_error',\n",
    "                       cv = 10)\n",
    "\n",
    "print(rsquare1)\n",
    "print (\"R^2 is: \\n\", regressor.score(train, y))"
   ]
  },
  {
   "cell_type": "code",
   "execution_count": null,
   "metadata": {},
   "outputs": [],
   "source": [
    "pwd"
   ]
  },
  {
   "cell_type": "code",
   "execution_count": null,
   "metadata": {
    "collapsed": true
   },
   "outputs": [],
   "source": [
    "#np.savetxt(\"RsquareRFStatisticallysignificant1.csv\", rsquare1, delimiter=\",\")\n",
    "np.savetxt(\"MSE.csv\", mse, delimiter=\",\")"
   ]
  },
  {
   "cell_type": "code",
   "execution_count": null,
   "metadata": {},
   "outputs": [],
   "source": [
    "import seaborn as sns\n",
    "comp=sns.pairplot(graphcomparision,x_vars=['RandomForest','MultipleLinearRegression','Polynomial'],y_vars='Id',size =7 ,aspect =0.7)\n",
    "\n",
    "plt.show()\n",
    "comp.savefig(\"comp.png\")"
   ]
  },
  {
   "cell_type": "code",
   "execution_count": null,
   "metadata": {},
   "outputs": [],
   "source": [
    "\"\"\"\n",
    "\n",
    "fig1, ax = plt.subplots()\n",
    "jet=plt.get_cmap('coolwarm')\n",
    "\n",
    "ax.scatter(y=\"Id\",x=\"RandomForest\",s=100,cmap=jet, vmin=0, vmax=4,data=graphcomparision,alpha=1,label=\"RandomForest\")\n",
    "ax.scatter(y=\"Id\",x=\"MultipleLinearRegression\",s=100,cmap=jet, vmin=0, vmax=4,data=graphcomparision,alpha=1,label=\"MultipleLinearRegression\")\n",
    "ax.scatter(y=\"Id\",x=\"Polynomialregression\",s=100,cmap=jet, vmin=0, vmax=4,data=graphcomparision,alpha=1,label=\"Polynomial\")\n",
    "#plt.clim(0,5)\n",
    "plt.xlabel(\"predicted values\")\n",
    "plt.ylabel(\"house\")\n",
    "plt.show()\n",
    "fig1.savefig(\"ttt.png\")\n",
    "\"\"\""
   ]
  },
  {
   "cell_type": "code",
   "execution_count": null,
   "metadata": {},
   "outputs": [],
   "source": [
    "fig, ax = plt.subplots()\n",
    "\n",
    "ax.plot(\"Bins\",\"MLR\",data=Rsquarescomparision,color=\"green\",label=\"MultipleLinearRegression\")\n",
    "ax.plot(\"Bins\",\"Poly\",data=Rsquarescomparision,color=\"blue\",label=\"Polynomialregression\")\n",
    "ax.plot(\"Bins\",\"RF\",data=Rsquarescomparision,alpha=1,color=\"red\",label=\"RandomForest\")\n",
    "plt.xlabel(\"Bins\")\n",
    "plt.ylabel(\"Rsquares\")\n",
    "plt.xticks([1,2,3,4,5,6,7,8,9,10])\n",
    "plt.yticks([0.5,0.6,0.7,0.8,0.9,1])\n",
    "plt.show()\n",
    "fig.savefig(\"r.png\")\n",
    "\n",
    "\n",
    "\n"
   ]
  },
  {
   "cell_type": "code",
   "execution_count": null,
   "metadata": {},
   "outputs": [],
   "source": [
    "import seaborn as sns\n",
    "comp1=sns.pairplot(graphcomparision,x_vars=['RandomForest','MultipleLinearRegression','Polynomial'],y_vars='Id',size =7 ,aspect =0.7)\n",
    "#comp2=sns.pairplot(graphcomparision,x_vars=['RandomForest','MultipleLinearRegression','Zubair'],y_vars='Id',size =7 ,aspect =0.7)\n",
    "comp3=sns.pairplot(graphcomparision,x_vars=['Mayumi','Zubair','Boris'],y_vars='Id',size =7 ,aspect =0.7)\n",
    "\n",
    "plt.show()\n",
    "comp1.savefig(\"comp1.png\")\n",
    "#comp2.savefig(\"comp2.png\")\n",
    "comp3.savefig(\"comp3.png\")"
   ]
  }
 ],
 "metadata": {
  "kernelspec": {
   "display_name": "Python 2",
   "language": "python",
   "name": "python2"
  },
  "language_info": {
   "codemirror_mode": {
    "name": "ipython",
    "version": 2
   },
   "file_extension": ".py",
   "mimetype": "text/x-python",
   "name": "python",
   "nbconvert_exporter": "python",
   "pygments_lexer": "ipython2",
   "version": "2.7.13"
  }
 },
 "nbformat": 4,
 "nbformat_minor": 2
}
